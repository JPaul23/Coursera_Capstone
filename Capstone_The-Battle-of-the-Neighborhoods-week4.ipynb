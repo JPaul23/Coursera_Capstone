{
 "cells": [
  {
   "cell_type": "markdown",
   "metadata": {},
   "source": [
    "# Capstone Project - The Battle of the Neighborhoods-Week 4\n",
    "### Applied Data Science Capstone by IBM-Coursera"
   ]
  },
  {
   "cell_type": "markdown",
   "metadata": {},
   "source": [
    "## Table of Contents\n",
    "* [Business Problem](#intro)\n",
    "* [Data](#Data)"
   ]
  },
  {
   "cell_type": "markdown",
   "metadata": {},
   "source": [
    "## Business Problem <a name =\"intro\"></a>"
   ]
  },
  {
   "cell_type": "markdown",
   "metadata": {},
   "source": [
    "In this project, we will be focusing on providing *recommendations* to stakeholders who are interested in opening a restaurant or a business in city of **Toronto** in canada.\n",
    "\n",
    "This report will help two stakeholders, the one who want to open a restaurant and the one who is interested in starting any business but in need of where he/she can set up his/her office.\n",
    "\n",
    "We will use the DataScience toolbox and other researches to provide informations to stakeholders and recommend them the optimal place/location for their businesses."
   ]
  },
  {
   "cell_type": "markdown",
   "metadata": {},
   "source": [
    "## Data <a name=\"Data\"></a>"
   ]
  },
  {
   "cell_type": "markdown",
   "metadata": {},
   "source": [
    "According to our problem, there are considerations that will drive our decisions:\n",
    "Let's see visit each problem to see what to consider;\n",
    "1. Restaurant opening:\n",
    "    * To recommend a good location for the restaurant, we will check the neighborhoods with less number of restaurants, This will help in identifying the area with less **Competitions**.\n",
    "    * We might also check what type of *cuisines* that nearby restaurant serves, by looking into that this should help the stakeholder in being creative which also might raise his/her customers.\n",
    "    * For the good location in neighborhoods, there has to be some public services like <code>hospitals,Fire departement, etc</code>, after all there are your customers.\n",
    "2. Best office opening:\n",
    "    * For someone interested in finding the best office, the best location must have public services as stated above.\n",
    "    * The type of Business has to be close to unique, which will help him/her to have less competition.\n",
    "\n",
    "\n",
    "We will use **FourSquare API** to generate data of restaurants in Toronto, other Data sources will be the neighborhoods data that can be scraped on websites as well as other datasets that can help in making a good decisions out of data analysis."
   ]
  }
 ],
 "metadata": {
  "kernelspec": {
   "display_name": "Python 3",
   "language": "python",
   "name": "python3"
  },
  "language_info": {
   "codemirror_mode": {
    "name": "ipython",
    "version": 3
   },
   "file_extension": ".py",
   "mimetype": "text/x-python",
   "name": "python",
   "nbconvert_exporter": "python",
   "pygments_lexer": "ipython3",
   "version": "3.7.6"
  }
 },
 "nbformat": 4,
 "nbformat_minor": 4
}
